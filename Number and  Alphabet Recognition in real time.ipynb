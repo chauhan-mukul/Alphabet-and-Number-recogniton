{
 "cells": [
  {
   "cell_type": "code",
   "execution_count": 1,
   "id": "5394cc21",
   "metadata": {},
   "outputs": [],
   "source": [
    "import pandas as pd\n",
    "import numpy as np\n",
    "import matplotlib.pyplot as plt\n",
    "import seaborn as sns\n",
    "import cv2\n",
    "import os"
   ]
  },
  {
   "cell_type": "markdown",
   "id": "2737f3f2",
   "metadata": {},
   "source": [
    "# Creating DIR to store our dataset"
   ]
  },
  {
   "cell_type": "code",
   "execution_count": null,
   "id": "e4a20660",
   "metadata": {},
   "outputs": [],
   "source": [
    "# Training_DIR=r'F:\\dataset_aiml\\train'\n",
    "# Testing_DIR=r'F:\\dataset_aiml\\test'\n",
    "# os.makedirs(Training_DIR)\n",
    "# os.makedirs(Testing_DIR)"
   ]
  },
  {
   "cell_type": "code",
   "execution_count": null,
   "id": "d813a06f",
   "metadata": {},
   "outputs": [],
   "source": [
    "for i in range(36):\n",
    "    os.makedirs(Training_DIR+'/'+'{}'.format(i))\n",
    "    os.makedirs(Testing_DIR+'/'+'{}'.format(i))"
   ]
  },
  {
   "cell_type": "markdown",
   "id": "feedc79b",
   "metadata": {},
   "source": [
    "# Separating data in their respective class formats / Script"
   ]
  },
  {
   "cell_type": "code",
   "execution_count": null,
   "id": "af6bb793",
   "metadata": {},
   "outputs": [],
   "source": [
    "directory=r\"E:\\Img\"\n",
    "os.listdir(directory)\n",
    "count=0\n",
    "class1=0\n",
    "for images in os.listdir(directory):\n",
    "    image_path=directory+'/'+images\n",
    "    image=cv2.imread(image_path)\n",
    "    count+=1\n",
    "    if count<=50:\n",
    "        path=Training_DIR+'/'+'{}'.format(class1)+'/'+'{}'.format(images)\n",
    "        cv2.imwrite(path,image)\n",
    "    elif count<=55 and count>50:\n",
    "        path=Testing_DIR+'/'+'{}'.format(class1)+'/'+'{}'.format(images)\n",
    "        cv2.imwrite(path,image)\n",
    "        if count==55:\n",
    "            count=0\n",
    "            class1+=1\n"
   ]
  },
  {
   "cell_type": "markdown",
   "id": "9fa5d00e",
   "metadata": {},
   "source": [
    "# Data Augmentation or we can say image preprocessing"
   ]
  },
  {
   "cell_type": "code",
   "execution_count": 2,
   "id": "d0bc201f",
   "metadata": {},
   "outputs": [],
   "source": [
    "from tensorflow.keras.models import Sequential\n",
    "from tensorflow.keras.layers import Conv2D,MaxPool2D,Dense,Dropout,Flatten,InputLayer\n",
    "import tensorflow as tf\n",
    "from keras.preprocessing.image import ImageDataGenerator"
   ]
  },
  {
   "cell_type": "code",
   "execution_count": 3,
   "id": "825fa39b",
   "metadata": {},
   "outputs": [],
   "source": [
    "train_data_generator=ImageDataGenerator(rescale=1/255,\n",
    "                                       rotation_range=10,\n",
    "                                        shear_range=0.2,\n",
    "                                       zoom_range=0.2,\n",
    "                                        width_shift_range=0.2)\n",
    "test_data_generator=ImageDataGenerator(rescale=1/255)"
   ]
  },
  {
   "cell_type": "code",
   "execution_count": 4,
   "id": "6be39162",
   "metadata": {},
   "outputs": [
    {
     "name": "stdout",
     "output_type": "stream",
     "text": [
      "Found 1800 images belonging to 36 classes.\n"
     ]
    }
   ],
   "source": [
    "train_set=train_data_generator.flow_from_directory(r\"F:\\dataset_aiml\\train\",target_size=(64,64),batch_size=32,class_mode='categorical')"
   ]
  },
  {
   "cell_type": "code",
   "execution_count": 5,
   "id": "bfdf228e",
   "metadata": {},
   "outputs": [
    {
     "name": "stdout",
     "output_type": "stream",
     "text": [
      "Found 180 images belonging to 36 classes.\n"
     ]
    }
   ],
   "source": [
    "test_set=train_data_generator.flow_from_directory(r\"F:\\dataset_aiml\\test\",target_size=(64,64),batch_size=32,class_mode='categorical',shuffle=False)"
   ]
  },
  {
   "cell_type": "code",
   "execution_count": 6,
   "id": "f11d8e1c",
   "metadata": {},
   "outputs": [
    {
     "name": "stdout",
     "output_type": "stream",
     "text": [
      "Model: \"sequential\"\n",
      "_________________________________________________________________\n",
      " Layer (type)                Output Shape              Param #   \n",
      "=================================================================\n",
      " conv2d (Conv2D)             (None, 62, 62, 32)        896       \n",
      "                                                                 \n",
      " conv2d_1 (Conv2D)           (None, 62, 62, 32)        9248      \n",
      "                                                                 \n",
      " max_pooling2d (MaxPooling2D  (None, 31, 31, 32)       0         \n",
      " )                                                               \n",
      "                                                                 \n",
      " conv2d_2 (Conv2D)           (None, 29, 29, 64)        18496     \n",
      "                                                                 \n",
      " conv2d_3 (Conv2D)           (None, 29, 29, 64)        36928     \n",
      "                                                                 \n",
      " max_pooling2d_1 (MaxPooling  (None, 14, 14, 64)       0         \n",
      " 2D)                                                             \n",
      "                                                                 \n",
      " conv2d_4 (Conv2D)           (None, 12, 12, 128)       73856     \n",
      "                                                                 \n",
      " conv2d_5 (Conv2D)           (None, 12, 12, 128)       147584    \n",
      "                                                                 \n",
      " max_pooling2d_2 (MaxPooling  (None, 6, 6, 128)        0         \n",
      " 2D)                                                             \n",
      "                                                                 \n",
      " flatten (Flatten)           (None, 4608)              0         \n",
      "                                                                 \n",
      "=================================================================\n",
      "Total params: 287,008\n",
      "Trainable params: 287,008\n",
      "Non-trainable params: 0\n",
      "_________________________________________________________________\n"
     ]
    }
   ],
   "source": [
    "model=Sequential()\n",
    "model.add(Conv2D(32,kernel_size=(3,3),padding='valid',strides=1,activation='relu',input_shape=[64,64,3]))\n",
    "model.add(Conv2D(32,kernel_size=(3,3),padding='same',strides=1,activation='relu'))                                                                                \n",
    "model.add(MaxPool2D(pool_size=(2,2),strides=2))\n",
    "model.add(Conv2D(64,kernel_size=(3,3),padding='valid',strides=1,activation='relu'))\n",
    "model.add(Conv2D(64,kernel_size=(3,3),padding='same',strides=1,activation='relu'))                                                       \n",
    "model.add(MaxPool2D(pool_size=(2,2),strides=2))\n",
    "model.add(Conv2D(128,kernel_size=(3,3),padding='valid',strides=1,activation='relu'))\n",
    "model.add(Conv2D(128,kernel_size=(3,3),padding='same',strides=1,activation='relu'))                                                                                          \n",
    "model.add(MaxPool2D(pool_size=(2,2),strides=2))\n",
    "model.add(Flatten()) \n",
    "model.summary()\n"
   ]
  },
  {
   "cell_type": "code",
   "execution_count": 8,
   "id": "11228e9f",
   "metadata": {},
   "outputs": [
    {
     "name": "stdout",
     "output_type": "stream",
     "text": [
      "Model: \"sequential\"\n",
      "_________________________________________________________________\n",
      " Layer (type)                Output Shape              Param #   \n",
      "=================================================================\n",
      " conv2d (Conv2D)             (None, 62, 62, 32)        896       \n",
      "                                                                 \n",
      " conv2d_1 (Conv2D)           (None, 62, 62, 32)        9248      \n",
      "                                                                 \n",
      " max_pooling2d (MaxPooling2D  (None, 31, 31, 32)       0         \n",
      " )                                                               \n",
      "                                                                 \n",
      " conv2d_2 (Conv2D)           (None, 29, 29, 64)        18496     \n",
      "                                                                 \n",
      " conv2d_3 (Conv2D)           (None, 29, 29, 64)        36928     \n",
      "                                                                 \n",
      " max_pooling2d_1 (MaxPooling  (None, 14, 14, 64)       0         \n",
      " 2D)                                                             \n",
      "                                                                 \n",
      " conv2d_4 (Conv2D)           (None, 12, 12, 128)       73856     \n",
      "                                                                 \n",
      " conv2d_5 (Conv2D)           (None, 12, 12, 128)       147584    \n",
      "                                                                 \n",
      " max_pooling2d_2 (MaxPooling  (None, 6, 6, 128)        0         \n",
      " 2D)                                                             \n",
      "                                                                 \n",
      " flatten (Flatten)           (None, 4608)              0         \n",
      "                                                                 \n",
      " dense (Dense)               (None, 4096)              18878464  \n",
      "                                                                 \n",
      " dropout (Dropout)           (None, 4096)              0         \n",
      "                                                                 \n",
      " dense_1 (Dense)             (None, 1024)              4195328   \n",
      "                                                                 \n",
      " dropout_1 (Dropout)         (None, 1024)              0         \n",
      "                                                                 \n",
      " dense_2 (Dense)             (None, 36)                36900     \n",
      "                                                                 \n",
      " dense_3 (Dense)             (None, 4096)              151552    \n",
      "                                                                 \n",
      " dropout_2 (Dropout)         (None, 4096)              0         \n",
      "                                                                 \n",
      " dense_4 (Dense)             (None, 1024)              4195328   \n",
      "                                                                 \n",
      " dropout_3 (Dropout)         (None, 1024)              0         \n",
      "                                                                 \n",
      " dense_5 (Dense)             (None, 36)                36900     \n",
      "                                                                 \n",
      "=================================================================\n",
      "Total params: 27,781,480\n",
      "Trainable params: 27,781,480\n",
      "Non-trainable params: 0\n",
      "_________________________________________________________________\n"
     ]
    }
   ],
   "source": [
    "model.add(Dense(units=4096,activation='relu'))\n",
    "model.add(Dropout(0.4))\n",
    "model.add(Dense(units=1024,activation='relu'))\n",
    "model.add(Dropout(0.4))\n",
    "model.add(Dense(units=36,activation='softmax'))\n",
    "model.compile(loss='categorical_crossentropy',optimizer='rmsprop')\n",
    "model.summary()"
   ]
  },
  {
   "cell_type": "code",
   "execution_count": 9,
   "id": "9658fec6",
   "metadata": {},
   "outputs": [],
   "source": [
    "from tensorflow.keras.callbacks import EarlyStopping"
   ]
  },
  {
   "cell_type": "code",
   "execution_count": 10,
   "id": "254c4bd9",
   "metadata": {},
   "outputs": [],
   "source": [
    "early_stop=EarlyStopping(monitor='val_loss',patience=3)"
   ]
  },
  {
   "cell_type": "code",
   "execution_count": 11,
   "id": "96c698d8",
   "metadata": {},
   "outputs": [
    {
     "name": "stdout",
     "output_type": "stream",
     "text": [
      "Epoch 1/20\n"
     ]
    },
    {
     "name": "stderr",
     "output_type": "stream",
     "text": [
      "\n",
      "KeyboardInterrupt\n",
      "\n"
     ]
    }
   ],
   "source": [
    "model.fit(x=train_set,epochs=20,validation_data=train_set,callbacks=[early_stop],batch_size=8)"
   ]
  },
  {
   "cell_type": "markdown",
   "id": "00bdcaff",
   "metadata": {},
   "source": [
    "# creating a mapping of classes to thier respective names"
   ]
  },
  {
   "cell_type": "code",
   "execution_count": 12,
   "id": "f27cda8f",
   "metadata": {
    "scrolled": true
   },
   "outputs": [
    {
     "data": {
      "text/html": [
       "<div>\n",
       "<style scoped>\n",
       "    .dataframe tbody tr th:only-of-type {\n",
       "        vertical-align: middle;\n",
       "    }\n",
       "\n",
       "    .dataframe tbody tr th {\n",
       "        vertical-align: top;\n",
       "    }\n",
       "\n",
       "    .dataframe thead th {\n",
       "        text-align: right;\n",
       "    }\n",
       "</style>\n",
       "<table border=\"1\" class=\"dataframe\">\n",
       "  <thead>\n",
       "    <tr style=\"text-align: right;\">\n",
       "      <th></th>\n",
       "      <th>Classes_as_saved_in_folder</th>\n",
       "      <th>Name_to_predict</th>\n",
       "    </tr>\n",
       "    <tr>\n",
       "      <th>index_order_of_class</th>\n",
       "      <th></th>\n",
       "      <th></th>\n",
       "    </tr>\n",
       "  </thead>\n",
       "  <tbody>\n",
       "    <tr>\n",
       "      <th>0</th>\n",
       "      <td>0</td>\n",
       "      <td>zero</td>\n",
       "    </tr>\n",
       "    <tr>\n",
       "      <th>1</th>\n",
       "      <td>1</td>\n",
       "      <td>one</td>\n",
       "    </tr>\n",
       "    <tr>\n",
       "      <th>2</th>\n",
       "      <td>10</td>\n",
       "      <td>A</td>\n",
       "    </tr>\n",
       "    <tr>\n",
       "      <th>3</th>\n",
       "      <td>11</td>\n",
       "      <td>B</td>\n",
       "    </tr>\n",
       "    <tr>\n",
       "      <th>4</th>\n",
       "      <td>12</td>\n",
       "      <td>C</td>\n",
       "    </tr>\n",
       "    <tr>\n",
       "      <th>5</th>\n",
       "      <td>13</td>\n",
       "      <td>D</td>\n",
       "    </tr>\n",
       "    <tr>\n",
       "      <th>6</th>\n",
       "      <td>14</td>\n",
       "      <td>E</td>\n",
       "    </tr>\n",
       "    <tr>\n",
       "      <th>7</th>\n",
       "      <td>15</td>\n",
       "      <td>F</td>\n",
       "    </tr>\n",
       "    <tr>\n",
       "      <th>8</th>\n",
       "      <td>16</td>\n",
       "      <td>G</td>\n",
       "    </tr>\n",
       "    <tr>\n",
       "      <th>9</th>\n",
       "      <td>17</td>\n",
       "      <td>H</td>\n",
       "    </tr>\n",
       "    <tr>\n",
       "      <th>10</th>\n",
       "      <td>18</td>\n",
       "      <td>I</td>\n",
       "    </tr>\n",
       "    <tr>\n",
       "      <th>11</th>\n",
       "      <td>19</td>\n",
       "      <td>J</td>\n",
       "    </tr>\n",
       "    <tr>\n",
       "      <th>12</th>\n",
       "      <td>2</td>\n",
       "      <td>two</td>\n",
       "    </tr>\n",
       "    <tr>\n",
       "      <th>13</th>\n",
       "      <td>20</td>\n",
       "      <td>K</td>\n",
       "    </tr>\n",
       "    <tr>\n",
       "      <th>14</th>\n",
       "      <td>21</td>\n",
       "      <td>L</td>\n",
       "    </tr>\n",
       "    <tr>\n",
       "      <th>15</th>\n",
       "      <td>22</td>\n",
       "      <td>M</td>\n",
       "    </tr>\n",
       "    <tr>\n",
       "      <th>16</th>\n",
       "      <td>23</td>\n",
       "      <td>N</td>\n",
       "    </tr>\n",
       "    <tr>\n",
       "      <th>17</th>\n",
       "      <td>24</td>\n",
       "      <td>O</td>\n",
       "    </tr>\n",
       "    <tr>\n",
       "      <th>18</th>\n",
       "      <td>25</td>\n",
       "      <td>P</td>\n",
       "    </tr>\n",
       "    <tr>\n",
       "      <th>19</th>\n",
       "      <td>26</td>\n",
       "      <td>Q</td>\n",
       "    </tr>\n",
       "    <tr>\n",
       "      <th>20</th>\n",
       "      <td>27</td>\n",
       "      <td>R</td>\n",
       "    </tr>\n",
       "    <tr>\n",
       "      <th>21</th>\n",
       "      <td>28</td>\n",
       "      <td>S</td>\n",
       "    </tr>\n",
       "    <tr>\n",
       "      <th>22</th>\n",
       "      <td>29</td>\n",
       "      <td>T</td>\n",
       "    </tr>\n",
       "    <tr>\n",
       "      <th>23</th>\n",
       "      <td>3</td>\n",
       "      <td>three</td>\n",
       "    </tr>\n",
       "    <tr>\n",
       "      <th>24</th>\n",
       "      <td>30</td>\n",
       "      <td>U</td>\n",
       "    </tr>\n",
       "    <tr>\n",
       "      <th>25</th>\n",
       "      <td>31</td>\n",
       "      <td>V</td>\n",
       "    </tr>\n",
       "    <tr>\n",
       "      <th>26</th>\n",
       "      <td>32</td>\n",
       "      <td>W</td>\n",
       "    </tr>\n",
       "    <tr>\n",
       "      <th>27</th>\n",
       "      <td>33</td>\n",
       "      <td>X</td>\n",
       "    </tr>\n",
       "    <tr>\n",
       "      <th>28</th>\n",
       "      <td>34</td>\n",
       "      <td>Y</td>\n",
       "    </tr>\n",
       "    <tr>\n",
       "      <th>29</th>\n",
       "      <td>35</td>\n",
       "      <td>Z</td>\n",
       "    </tr>\n",
       "    <tr>\n",
       "      <th>30</th>\n",
       "      <td>4</td>\n",
       "      <td>four</td>\n",
       "    </tr>\n",
       "    <tr>\n",
       "      <th>31</th>\n",
       "      <td>5</td>\n",
       "      <td>five</td>\n",
       "    </tr>\n",
       "    <tr>\n",
       "      <th>32</th>\n",
       "      <td>6</td>\n",
       "      <td>six</td>\n",
       "    </tr>\n",
       "    <tr>\n",
       "      <th>33</th>\n",
       "      <td>7</td>\n",
       "      <td>seven</td>\n",
       "    </tr>\n",
       "    <tr>\n",
       "      <th>34</th>\n",
       "      <td>8</td>\n",
       "      <td>eight</td>\n",
       "    </tr>\n",
       "    <tr>\n",
       "      <th>35</th>\n",
       "      <td>9</td>\n",
       "      <td>nine</td>\n",
       "    </tr>\n",
       "  </tbody>\n",
       "</table>\n",
       "</div>"
      ],
      "text/plain": [
       "                     Classes_as_saved_in_folder Name_to_predict\n",
       "index_order_of_class                                           \n",
       "0                                             0            zero\n",
       "1                                             1             one\n",
       "2                                            10               A\n",
       "3                                            11               B\n",
       "4                                            12               C\n",
       "5                                            13               D\n",
       "6                                            14               E\n",
       "7                                            15               F\n",
       "8                                            16               G\n",
       "9                                            17               H\n",
       "10                                           18               I\n",
       "11                                           19               J\n",
       "12                                            2             two\n",
       "13                                           20               K\n",
       "14                                           21               L\n",
       "15                                           22               M\n",
       "16                                           23               N\n",
       "17                                           24               O\n",
       "18                                           25               P\n",
       "19                                           26               Q\n",
       "20                                           27               R\n",
       "21                                           28               S\n",
       "22                                           29               T\n",
       "23                                            3           three\n",
       "24                                           30               U\n",
       "25                                           31               V\n",
       "26                                           32               W\n",
       "27                                           33               X\n",
       "28                                           34               Y\n",
       "29                                           35               Z\n",
       "30                                            4            four\n",
       "31                                            5            five\n",
       "32                                            6             six\n",
       "33                                            7           seven\n",
       "34                                            8           eight\n",
       "35                                            9            nine"
      ]
     },
     "execution_count": 12,
     "metadata": {},
     "output_type": "execute_result"
    }
   ],
   "source": [
    "new_dict = dict([(value, key) for key, value in test_set.class_indices.items()])\n",
    "list1=[new_dict[i] for i in new_dict]\n",
    "df=pd.DataFrame(list1,columns=['Classes_as_saved_in_folder'])\n",
    "df.index.name='index_order_of_class'\n",
    "df\n",
    "df['Name_to_predict']=df['Classes_as_saved_in_folder'].map({\n",
    "    '0': 'zero',\n",
    "    '1': 'one',\n",
    "    '2': 'two',\n",
    "    '3': 'three',\n",
    "    '4': 'four',\n",
    "    '5': 'five',\n",
    "    '6': 'six',\n",
    "    '7': 'seven',\n",
    "    '8': 'eight',\n",
    "    '9': 'nine',\n",
    "    '10': 'A',\n",
    "    '11': 'B',\n",
    "    '12': 'C',\n",
    "    '13': 'D',\n",
    "    '14': 'E',\n",
    "    '15': 'F',\n",
    "    '16': 'G',\n",
    "    '17': 'H',\n",
    "    '18': 'I',\n",
    "    '19': 'J',\n",
    "    '20': 'K',\n",
    "    '21': 'L',\n",
    "    '22': 'M',\n",
    "    '23': 'N',\n",
    "    '24': 'O',\n",
    "    '25': 'P',\n",
    "    '26': 'Q',\n",
    "    '27': 'R',\n",
    "    '28': 'S',\n",
    "    '29': 'T',\n",
    "    '30': 'U',\n",
    "    '31': 'V',\n",
    "    '32': 'W',\n",
    "    '33': 'X',\n",
    "    '34': 'Y',\n",
    "    '35': 'Z'\n",
    "}\n",
    ")\n",
    "df"
   ]
  },
  {
   "cell_type": "markdown",
   "id": "0ea0993d",
   "metadata": {},
   "source": [
    "# creating a function to predict the inputed image"
   ]
  },
  {
   "cell_type": "code",
   "execution_count": 15,
   "id": "ddfb7988",
   "metadata": {},
   "outputs": [],
   "source": [
    "def check_image_class(path):\n",
    "    test_image=tf.keras.utils.load_img(path,\n",
    "                         target_size=(64,64))\n",
    "    print('The Test Image is:')\n",
    "    plt.imshow(test_image)\n",
    "    test_image=tf.keras.utils.img_to_array(test_image)\n",
    "    test_image =np.expand_dims(test_image,axis=0)\n",
    "    result=model.predict(test_image)\n",
    "    result=np.argmax(result,axis=1)\n",
    "    return (df['Name_to_predict'][result[0]])"
   ]
  },
  {
   "cell_type": "markdown",
   "id": "24a56dd7",
   "metadata": {},
   "source": [
    "# Prediction some images"
   ]
  },
  {
   "cell_type": "code",
   "execution_count": 16,
   "id": "6961e4c4",
   "metadata": {},
   "outputs": [
    {
     "name": "stdout",
     "output_type": "stream",
     "text": [
      "The Test Image is:\n",
      "1/1 [==============================] - 0s 460ms/step\n"
     ]
    },
    {
     "data": {
      "image/png": "[encoded data removed]",
      "text/plain": [
       "<Figure size 640x480 with 1 Axes>"
      ]
     },
     "metadata": {},
     "output_type": "display_data"
    }
   ],
   "source": [
    "predicted_value=check_image_class(r\"F:\\dataset_aiml\\test\\10\\img011-052.png\")"
   ]
  },
  {
   "cell_type": "code",
   "execution_count": 12,
   "id": "75131666",
   "metadata": {},
   "outputs": [
    {
     "name": "stdout",
     "output_type": "stream",
     "text": [
      "The model predicted it as  : A\n"
     ]
    }
   ],
   "source": [
    "print('The model predicted it as  :',predicted_value)"
   ]
  },
  {
   "cell_type": "code",
   "execution_count": 13,
   "id": "ad93b7a9",
   "metadata": {},
   "outputs": [
    {
     "name": "stdout",
     "output_type": "stream",
     "text": [
      "The Test Image is:\n",
      "1/1 [==============================] - 0s 16ms/step\n"
     ]
    },
    {
     "data": {
      "image/png": "[encoded data removed]",
      "text/plain": [
       "<Figure size 640x480 with 1 Axes>"
      ]
     },
     "metadata": {},
     "output_type": "display_data"
    }
   ],
   "source": [
    "predicted_value=check_image_class(r\"F:\\dataset_aiml\\test\\6\\img007-052.png\")"
   ]
  },
  {
   "cell_type": "code",
   "execution_count": 14,
   "id": "2bd57710",
   "metadata": {},
   "outputs": [
    {
     "name": "stdout",
     "output_type": "stream",
     "text": [
      "The model predicted it as  : six\n"
     ]
    }
   ],
   "source": [
    "print('The model predicted it as  :',predicted_value)"
   ]
  },
  {
   "cell_type": "markdown",
   "id": "86d44cbf",
   "metadata": {},
   "source": [
    "# Performance Evaluation"
   ]
  },
  {
   "cell_type": "code",
   "execution_count": null,
   "id": "cc2dae35",
   "metadata": {},
   "outputs": [],
   "source": [
    "prediction=model.predict(test_set)\n",
    "y=test_set.classes\n",
    "prediction=np.argmax(prediction,axis=1)"
   ]
  },
  {
   "cell_type": "code",
   "execution_count": null,
   "id": "740e6ab6",
   "metadata": {},
   "outputs": [],
   "source": [
    "prediction"
   ]
  },
  {
   "cell_type": "code",
   "execution_count": null,
   "id": "060f5e21",
   "metadata": {},
   "outputs": [],
   "source": [
    "from sklearn.metrics import classification_report,confusion_matrix\n",
    "cf=confusion_matrix(y,prediction)\n",
    "print(cf)"
   ]
  },
  {
   "cell_type": "code",
   "execution_count": null,
   "id": "8b80a4c8",
   "metadata": {},
   "outputs": [],
   "source": [
    "print(classification_report(y,prediction,zero_division=0))"
   ]
  },
  {
   "cell_type": "code",
   "execution_count": null,
   "id": "67d543c6",
   "metadata": {},
   "outputs": [],
   "source": [
    "from sklearn.metrics import ConfusionMatrixDisplay\n",
    "disp = ConfusionMatrixDisplay(confusion_matrix=cf,\n",
    "                             display_labels=range(0,36))"
   ]
  },
  {
   "cell_type": "code",
   "execution_count": null,
   "id": "eefa52ae",
   "metadata": {
    "scrolled": false
   },
   "outputs": [],
   "source": [
    "plt.figure(figsize=(100,8),dpi=200)\n",
    "disp.plot()\n"
   ]
  },
  {
   "cell_type": "markdown",
   "id": "cc83b8b7",
   "metadata": {},
   "source": [
    "# Saving Model"
   ]
  },
  {
   "cell_type": "code",
   "execution_count": null,
   "id": "18462837",
   "metadata": {},
   "outputs": [],
   "source": [
    "\n",
    "from keras.models import load_model\n",
    "model.save(r'F:\\Model_AIMl\\a_zmodel.h5')"
   ]
  },
  {
   "cell_type": "code",
   "execution_count": 14,
   "id": "84d3a15d",
   "metadata": {},
   "outputs": [],
   "source": [
    "from keras.models import load_model\n",
    "model=load_model(r\"F:\\Model_AIMl\\a_zmodel.h5\")"
   ]
  },
  {
   "cell_type": "markdown",
   "id": "70aa3895",
   "metadata": {},
   "source": [
    "# Using Classic Netwok VGG16 and using Transfer Learning"
   ]
  },
  {
   "cell_type": "code",
   "execution_count": null,
   "id": "f387d09f",
   "metadata": {},
   "outputs": [],
   "source": [
    "from tensorflow.keras.applications.vgg16 import VGG16\n",
    "from tensorflow.keras.layers import Input"
   ]
  },
  {
   "cell_type": "code",
   "execution_count": null,
   "id": "faee84ff",
   "metadata": {},
   "outputs": [],
   "source": [
    "base_model=VGG16(include_top=False,weights='imagenet',input_shape=(64,64,3))"
   ]
  },
  {
   "cell_type": "code",
   "execution_count": null,
   "id": "bdd12689",
   "metadata": {},
   "outputs": [],
   "source": [
    "base_model.summary()"
   ]
  },
  {
   "cell_type": "code",
   "execution_count": null,
   "id": "ffe408ec",
   "metadata": {},
   "outputs": [],
   "source": [
    "for layer in base_model.layers[:]:\n",
    "    layer.trainable = False"
   ]
  },
  {
   "cell_type": "code",
   "execution_count": null,
   "id": "7a95bca5",
   "metadata": {},
   "outputs": [],
   "source": [
    "model_ = Sequential()\n",
    "model_.add(base_model)  # VGG16 base model\n",
    "model_.add(Flatten())\n",
    "model_.add(Dense(1024, activation='relu'))\n",
    "model_.add(Dropout(0.5))\n",
    "model_.add(Dense(36, activation='softmax'))\n",
    "model_.compile(loss='categorical_crossentropy',\n",
    "              optimizer='adam',\n",
    "              metrics=['accuracy'])"
   ]
  },
  {
   "cell_type": "code",
   "execution_count": null,
   "id": "708f74e4",
   "metadata": {},
   "outputs": [],
   "source": [
    "model_.summary()"
   ]
  },
  {
   "cell_type": "code",
   "execution_count": null,
   "id": "30d4a641",
   "metadata": {},
   "outputs": [],
   "source": [
    "model_.fit(train_set, epochs=20, batch_size=5,\n",
    "          validation_data=test_set,callbacks=[early_stop])"
   ]
  },
  {
   "cell_type": "code",
   "execution_count": null,
   "id": "a36bca66",
   "metadata": {},
   "outputs": [],
   "source": [
    "prediction1=model.predict(test_set)\n",
    "prediction1=np.argmax(prediction1,axis=1)"
   ]
  },
  {
   "cell_type": "code",
   "execution_count": null,
   "id": "040af854",
   "metadata": {},
   "outputs": [],
   "source": [
    "print(classification_report(y,prediction1,zero_division=0))"
   ]
  },
  {
   "cell_type": "markdown",
   "id": "59c27c07",
   "metadata": {},
   "source": [
    "# Predicting   in real Time/GUI"
   ]
  },
  {
   "cell_type": "code",
   "execution_count": 17,
   "id": "d5d815c3",
   "metadata": {},
   "outputs": [],
   "source": [
    "drawing=False\n",
    "def draw_circle(event,x,y,flags,param):\n",
    "    global drawing\n",
    "    if event==cv2.EVENT_LBUTTONDOWN:\n",
    "        drawing=True\n",
    "        cv2.circle(img,(x,y),8,(0,0,0),-1)\n",
    "    elif event==cv2.EVENT_MOUSEMOVE:\n",
    "        if drawing==True:\n",
    "            cv2.circle(img,(x,y),8,(0,0,0),-1)\n",
    "    elif event==cv2.EVENT_LBUTTONUP:\n",
    "        drawing=False        \n",
    "cv2.namedWindow(winname='my_drawing')\n",
    "cv2.setMouseCallback('my_drawing',draw_circle)\n",
    "img=np.full((512, 512, 3),\n",
    "                        255, dtype = np.uint8)\n",
    "while True: \n",
    "    cv2.imshow('my_drawing',img)\n",
    "    if cv2.waitKey(20) & 0xFF==27:\n",
    "        cv2.imwrite('my_test_live.jpg',img)\n",
    "        break\n",
    "cv2.destroyAllWindows()"
   ]
  },
  {
   "cell_type": "code",
   "execution_count": 18,
   "id": "30c9b843",
   "metadata": {},
   "outputs": [
    {
     "name": "stdout",
     "output_type": "stream",
     "text": [
      "The Test Image is:\n",
      "1/1 [==============================] - 0s 40ms/step\n"
     ]
    },
    {
     "data": {
      "image/png": "[encoded data removed]",
      "text/plain": [
       "<Figure size 640x480 with 1 Axes>"
      ]
     },
     "metadata": {},
     "output_type": "display_data"
    }
   ],
   "source": [
    "prediction=check_image_class('my_test_live.jpg')"
   ]
  },
  {
   "cell_type": "code",
   "execution_count": 19,
   "id": "46edeb69",
   "metadata": {},
   "outputs": [
    {
     "name": "stdout",
     "output_type": "stream",
     "text": [
      "The prediction is: P\n"
     ]
    }
   ],
   "source": [
    "print('The prediction is:',prediction)"
   ]
  },
  {
   "cell_type": "code",
   "execution_count": null,
   "id": "808ec4c8",
   "metadata": {},
   "outputs": [],
   "source": []
  }
 ],
 "metadata": {
  "kernelspec": {
   "display_name": "Python 3 (ipykernel)",
   "language": "python",
   "name": "python3"
  },
  "language_info": {
   "codemirror_mode": {
    "name": "ipython",
    "version": 3
   },
   "file_extension": ".py",
   "mimetype": "text/x-python",
   "name": "python",
   "nbconvert_exporter": "python",
   "pygments_lexer": "ipython3",
   "version": "3.10.13"
  }
 },
 "nbformat": 4,
 "nbformat_minor": 5
}
